{
 "cells": [
  {
   "cell_type": "markdown",
   "metadata": {},
   "source": [
    "## Load modules and parameters"
   ]
  },
  {
   "cell_type": "code",
   "execution_count": 1,
   "metadata": {},
   "outputs": [
    {
     "name": "stderr",
     "output_type": "stream",
     "text": [
      "Using TensorFlow backend.\n"
     ]
    }
   ],
   "source": [
    "import numpy as np\n",
    "import matplotlib.pyplot as plt\n",
    "%matplotlib inline\n",
    "from keras.layers import Dense\n",
    "from keras.layers.recurrent import SimpleRNN, LSTM\n",
    "from keras.models import Sequential\n",
    "\n",
    "## PARAMETERS ##\n",
    "batch_size = 256\n",
    "n_epochs = 3000\n",
    "seq_len = 60\n",
    "rnn_nodes = 10\n",
    "################"
   ]
  },
  {
   "cell_type": "markdown",
   "metadata": {},
   "source": [
    "## GENERATE DATA\n",
    "    [1, 0, 1, 1, 0, 1] --> [1, 1, 2, 3, 3, 4]"
   ]
  },
  {
   "cell_type": "code",
   "execution_count": 2,
   "metadata": {
    "collapsed": true
   },
   "outputs": [],
   "source": [
    "def generate_batch(n=batch_size):\n",
    "    X = np.random.choice(a=[0, 1], size = n*seq_len, p=[0.9, 0.1]).reshape(n, -1)\n",
    "    y = np.cumsum(X, axis=1)\n",
    "    X = X.reshape(n, -1, 1)\n",
    "    y = y.reshape(n, -1, 1)\n",
    "    return(X, y)\n",
    "# generate_batch(1)"
   ]
  },
  {
   "cell_type": "markdown",
   "metadata": {},
   "source": [
    "## Build Architecture"
   ]
  },
  {
   "cell_type": "code",
   "execution_count": 3,
   "metadata": {},
   "outputs": [
    {
     "name": "stdout",
     "output_type": "stream",
     "text": [
      "Wall time: 31.2 ms\n"
     ]
    }
   ],
   "source": [
    "model = Sequential()\n",
    "model.add(LSTM(rnn_nodes, input_shape=(seq_len, 1), return_sequences=True))\n",
    "model.add(Dense(1))\n",
    "%time model.compile(loss='mse', optimizer='adam')"
   ]
  },
  {
   "cell_type": "markdown",
   "metadata": {},
   "source": [
    "## Train"
   ]
  },
  {
   "cell_type": "code",
   "execution_count": 4,
   "metadata": {
    "scrolled": true
   },
   "outputs": [
    {
     "name": "stdout",
     "output_type": "stream",
     "text": [
      "0 14.4761499166\n",
      "100 0.103403661866\n",
      "200 0.0687892574351\n",
      "300 0.010572667059\n",
      "400 0.00574042057269\n",
      "500 0.00696980232897\n",
      "600 0.00295976582856\n",
      "700 0.00120049095858\n",
      "800 0.000544413669559\n",
      "900 0.00549790731748\n",
      "1000 0.00176742021722\n",
      "1100 0.00159766379511\n",
      "1200 0.000515048632224\n",
      "1300 0.000246065961619\n",
      "1400 0.000154359569024\n",
      "1500 0.000191295373952\n",
      "1600 0.00033776860073\n",
      "1700 0.00035474917604\n",
      "1800 0.000376218931706\n",
      "1900 0.000242487645664\n",
      "2000 9.75761704467e-05\n",
      "2100 8.14419809103e-05\n",
      "2200 0.00104044146428\n",
      "2300 9.22915487536e-05\n",
      "2400 0.00338209496113\n",
      "2500 0.000110392789793\n",
      "2600 0.000144943412124\n",
      "2700 0.000184274256753\n",
      "2800 0.000119096039271\n",
      "2900 8.03541224741e-05\n"
     ]
    },
    {
     "data": {
      "text/plain": [
       "[<matplotlib.lines.Line2D at 0x1e5312cb9e8>]"
      ]
     },
     "execution_count": 4,
     "metadata": {},
     "output_type": "execute_result"
    },
    {
     "data": {
      "image/png": "[encoded data removed]",
      "text/plain": [
       "<matplotlib.figure.Figure at 0x1e530cb3fd0>"
      ]
     },
     "metadata": {},
     "output_type": "display_data"
    }
   ],
   "source": [
    "history = []\n",
    "# from tqdm import trange\n",
    "# iters = trange(n_epochs)\n",
    "for i in range(n_epochs):\n",
    "    X, y = generate_batch()\n",
    "    hist = model.fit(X, y, verbose=0, epochs=1)\n",
    "    history.extend(hist.history['loss'])\n",
    "    if i%100 == 0:\n",
    "        print(i, model.evaluate(X, y, verbose=0))\n",
    "#         iters.set_description(str(np.mean(history[-10:])))\n",
    "plt.plot(history)"
   ]
  },
  {
   "cell_type": "markdown",
   "metadata": {},
   "source": [
    "## Predict"
   ]
  },
  {
   "cell_type": "code",
   "execution_count": 5,
   "metadata": {},
   "outputs": [
    {
     "name": "stdout",
     "output_type": "stream",
     "text": [
      "0.0003\n"
     ]
    }
   ],
   "source": [
    "x, y = generate_batch(1000)\n",
    "y_pred = np.round(model.predict(x))\n",
    "# print(np.squeeze(x), '\\n'*2, np.squeeze(y_pred))\n",
    "print(np.mean(np.absolute(np.squeeze(y - y_pred))))"
   ]
  },
  {
   "cell_type": "code",
   "execution_count": null,
   "metadata": {
    "collapsed": true
   },
   "outputs": [],
   "source": []
  }
 ],
 "metadata": {
  "anaconda-cloud": {},
  "kernelspec": {
   "display_name": "Python 3",
   "language": "python",
   "name": "python3"
  },
  "language_info": {
   "codemirror_mode": {
    "name": "ipython",
    "version": 3
   },
   "file_extension": ".py",
   "mimetype": "text/x-python",
   "name": "python",
   "nbconvert_exporter": "python",
   "pygments_lexer": "ipython3",
   "version": "3.6.1"
  }
 },
 "nbformat": 4,
 "nbformat_minor": 1
}
