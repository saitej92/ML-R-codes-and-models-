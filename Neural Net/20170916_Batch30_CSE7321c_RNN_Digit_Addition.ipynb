{
 "cells": [
  {
   "cell_type": "code",
   "execution_count": 10,
   "metadata": {
    "collapsed": true
   },
   "outputs": [],
   "source": [
    "import numpy as np\n",
    "BATCH_SIZE = 32\n",
    "n_batches = 250\n",
    "Number_of_Samples = BATCH_SIZE*n_batches\n",
    "LOGGING = False"
   ]
  },
  {
   "cell_type": "code",
   "execution_count": 11,
   "metadata": {
    "collapsed": true
   },
   "outputs": [],
   "source": [
    "MAX_DIGITS = 8\n",
    "binary = np.unpackbits(np.array([range(2**MAX_DIGITS)],dtype=np.uint8).T,axis=1)\n",
    "n = 10\n",
    "def make_binary(n = Number_of_Samples, max_digits = MAX_DIGITS):\n",
    "\tx = np.random.randint(0, 2**max_digits/2, 2*n).reshape(n, 2)\n",
    "\ty = np.sum(x, axis = 1)\n",
    "\tx = np.transpose(binary[x], [0, 2, 1])\n",
    "\ty = binary[y]\n",
    "\ty = np.transpose(y[np.newaxis, :], (1, 2, 0))\n",
    "\t# x, y = np.array(list(reversed(x))), np.array(list(reversed(y)))\n",
    "\tx, y = np.fliplr(x), np.fliplr(y)\t\n",
    "\treturn(x, y)\n",
    "a, b = make_binary()"
   ]
  },
  {
   "cell_type": "code",
   "execution_count": 12,
   "metadata": {
    "collapsed": true
   },
   "outputs": [],
   "source": [
    "from keras.layers import Dense\n",
    "from keras.layers.recurrent import SimpleRNN\n",
    "from keras.models import Sequential\n",
    "\n",
    "model = Sequential()\n",
    "model.add(SimpleRNN(units=40, batch_input_shape=(BATCH_SIZE, MAX_DIGITS, 2), return_sequences=True))\n",
    "model.add(Dense(1, activation='sigmoid'))\n",
    "\n",
    "model.compile(loss='binary_crossentropy', optimizer='adam')\n"
   ]
  },
  {
   "cell_type": "code",
   "execution_count": 13,
   "metadata": {},
   "outputs": [
    {
     "name": "stderr",
     "output_type": "stream",
     "text": [
      "\n",
      "  0%|                                                                                          | 0/250 [00:00<?, ?it/s]\n",
      "0.685192316771:   0%|▎                                                                 | 1/250 [00:01<05:50,  1.41s/it]\n",
      "0.674533367157:   2%|█                                                                 | 4/250 [00:01<04:06,  1.00s/it]\n",
      "0.692281037569:   2%|█▌                                                                | 6/250 [00:01<02:54,  1.40it/s]\n",
      "0.683098733425:   4%|██▍                                                               | 9/250 [00:01<02:03,  1.95it/s]\n",
      "0.668600738049:   4%|██▊                                                              | 11/250 [00:01<01:31,  2.62it/s]\n",
      "0.69284594059:   5%|███▍                                                              | 13/250 [00:02<01:08,  3.48it/s]\n",
      "0.67663833499:   6%|████▏                                                             | 16/250 [00:02<00:50,  4.62it/s]\n",
      "0.671087622643:   7%|████▋                                                            | 18/250 [00:02<00:40,  5.73it/s]\n",
      "0.653746306896:   8%|█████▏                                                           | 20/250 [00:02<00:31,  7.23it/s]\n",
      "0.679242402315:   9%|█████▋                                                           | 22/250 [00:02<00:26,  8.73it/s]\n",
      "0.676046073437:  10%|██████▏                                                          | 24/250 [00:02<00:22, 10.00it/s]\n",
      "0.690565347672:  10%|██████▊                                                          | 26/250 [00:02<00:20, 10.83it/s]\n",
      "0.678745687008:  11%|███████▎                                                         | 28/250 [00:03<00:19, 11.40it/s]\n",
      "0.676141619682:  12%|███████▊                                                         | 30/250 [00:03<00:17, 12.63it/s]\n",
      "0.683313667774:  13%|████████▎                                                        | 32/250 [00:03<00:17, 12.40it/s]\n",
      "0.676379293203:  14%|████████▊                                                        | 34/250 [00:03<00:16, 13.24it/s]\n",
      "0.6742208004:  14%|█████████▋                                                         | 36/250 [00:03<00:15, 13.57it/s]\n",
      "0.664917230606:  15%|█████████▉                                                       | 38/250 [00:03<00:14, 14.48it/s]\n",
      "0.664472520351:  16%|██████████▍                                                      | 40/250 [00:03<00:14, 14.80it/s]\n",
      "0.660354733467:  17%|███████████▏                                                     | 43/250 [00:03<00:12, 16.39it/s]\n",
      "0.678464651108:  18%|███████████▋                                                     | 45/250 [00:04<00:12, 16.79it/s]\n",
      "0.659879744053:  19%|████████████▏                                                    | 47/250 [00:04<00:11, 17.51it/s]\n",
      "0.660202234983:  20%|████████████▋                                                    | 49/250 [00:04<00:12, 16.12it/s]\n",
      "0.670791298151:  20%|█████████████▎                                                   | 51/250 [00:04<00:13, 14.88it/s]\n",
      "0.665396690369:  21%|█████████████▊                                                   | 53/250 [00:04<00:12, 15.66it/s]\n",
      "0.65588888526:  22%|██████████████▊                                                   | 56/250 [00:04<00:11, 16.43it/s]\n",
      "0.635662645102:  23%|███████████████                                                  | 58/250 [00:04<00:11, 16.19it/s]\n",
      "0.666765391827:  24%|███████████████▌                                                 | 60/250 [00:05<00:12, 14.80it/s]\n",
      "0.646825313568:  25%|████████████████                                                 | 62/250 [00:05<00:11, 15.72it/s]\n",
      "0.65867882967:  26%|████████████████▉                                                 | 64/250 [00:05<00:11, 16.43it/s]\n",
      "0.637854427099:  26%|█████████████████▏                                               | 66/250 [00:05<00:11, 15.96it/s]\n",
      "0.643345057964:  27%|█████████████████▋                                               | 68/250 [00:05<00:11, 15.48it/s]\n",
      "0.622348427773:  28%|██████████████████▏                                              | 70/250 [00:05<00:11, 15.00it/s]\n",
      "0.63007709384:  29%|███████████████████                                               | 72/250 [00:05<00:11, 15.04it/s]\n",
      "0.619262933731:  30%|███████████████████▏                                             | 74/250 [00:05<00:11, 15.66it/s]\n",
      "0.611297160387:  30%|███████████████████▊                                             | 76/250 [00:06<00:10, 16.65it/s]\n",
      "0.609265387058:  31%|████████████████████▎                                            | 78/250 [00:06<00:10, 15.66it/s]\n",
      "0.596749901772:  32%|████████████████████▊                                            | 80/250 [00:06<00:10, 15.65it/s]\n",
      "0.600892841816:  33%|█████████████████████▎                                           | 82/250 [00:06<00:11, 14.73it/s]\n",
      "0.582752078772:  34%|█████████████████████▊                                           | 84/250 [00:06<00:10, 15.33it/s]\n",
      "0.586582094431:  35%|██████████████████████▌                                          | 87/250 [00:06<00:09, 17.25it/s]\n",
      "0.562624424696:  36%|███████████████████████▏                                         | 89/250 [00:06<00:09, 17.75it/s]\n",
      "0.553344726563:  37%|███████████████████████▉                                         | 92/250 [00:06<00:08, 19.28it/s]\n",
      "0.559986561537:  38%|████████████████████████▋                                        | 95/250 [00:07<00:07, 20.21it/s]\n",
      "0.516918540001:  39%|█████████████████████████▍                                       | 98/250 [00:07<00:07, 20.35it/s]\n",
      "0.512633055449:  40%|█████████████████████████▊                                      | 101/250 [00:07<00:07, 21.24it/s]\n",
      "0.487723529339:  42%|██████████████████████████▌                                     | 104/250 [00:07<00:06, 21.95it/s]\n",
      "0.46677185595:  43%|███████████████████████████▊                                     | 107/250 [00:07<00:06, 23.04it/s]\n",
      "0.434200495481:  44%|████████████████████████████▏                                   | 110/250 [00:07<00:07, 19.45it/s]\n",
      "0.389371901751:  45%|████████████████████████████▉                                   | 113/250 [00:07<00:06, 19.59it/s]\n",
      "0.372776851058:  46%|█████████████████████████████▋                                  | 116/250 [00:08<00:07, 18.46it/s]\n",
      "0.368357107043:  47%|██████████████████████████████▏                                 | 118/250 [00:08<00:07, 16.79it/s]\n",
      "0.33879289031:  48%|███████████████████████████████▏                                 | 120/250 [00:08<00:07, 16.73it/s]\n",
      "0.324316889048:  49%|███████████████████████████████▏                                | 122/250 [00:08<00:08, 15.57it/s]\n",
      "0.299681887031:  50%|███████████████████████████████▋                                | 124/250 [00:08<00:08, 15.35it/s]\n",
      "0.28257060051:  50%|████████████████████████████████▊                                | 126/250 [00:08<00:08, 14.19it/s]\n",
      "\n",
      "0.0179659184068: 100%|███████████████████████████████████████████████████████████████| 250/250 [00:15<00:00, 17.56it/s]\n"
     ]
    }
   ],
   "source": [
    "from tqdm import trange\n",
    "iters = trange(n_batches)\n",
    "\n",
    "history = []\n",
    "for i in iters:\n",
    "\tX, y = make_binary(BATCH_SIZE)\n",
    "\thist = model.fit(X, y, epochs=10, verbose=0)\n",
    "\thistory.extend(hist.history['loss'])\n",
    "\tif i%1 == 0:\n",
    "\t\titers.set_description(str(np.mean(history[-2:])))"
   ]
  },
  {
   "cell_type": "code",
   "execution_count": 14,
   "metadata": {},
   "outputs": [
    {
     "data": {
      "image/png": "[encoded data removed]",
      "text/plain": [
       "<matplotlib.figure.Figure at 0x20b74577048>"
      ]
     },
     "metadata": {},
     "output_type": "display_data"
    }
   ],
   "source": [
    "import matplotlib.pyplot as plt\n",
    "plt.plot(history)\n",
    "plt.show()"
   ]
  },
  {
   "cell_type": "code",
   "execution_count": 15,
   "metadata": {
    "collapsed": true
   },
   "outputs": [],
   "source": [
    "def make_decimal(X, y):\n",
    "\tbin2dec = lambda x: int(\"\".join(str(i) for i in reversed(x)), 2)\n",
    "\tX = np.apply_along_axis(func1d=bin2dec, arr=X, axis=1)\n",
    "\ty = np.apply_along_axis(func1d=bin2dec, arr=y, axis=1)\n",
    "\treturn(X, y)"
   ]
  },
  {
   "cell_type": "code",
   "execution_count": 17,
   "metadata": {},
   "outputs": [
    {
     "name": "stdout",
     "output_type": "stream",
     "text": [
      "Inputs: [ 4 63], Prediction: 67\n",
      "Inputs: [18 66], Prediction: 84\n",
      "Inputs: [126 126], Prediction: 252\n",
      "Inputs: [41 13], Prediction: 54\n",
      "Inputs: [121  41], Prediction: 162\n",
      "Inputs: [39  2], Prediction: 41\n",
      "Inputs: [76 84], Prediction: 160\n",
      "Inputs: [ 48 108], Prediction: 156\n",
      "Inputs: [112   1], Prediction: 113\n",
      "Inputs: [54 74], Prediction: 128\n",
      "Inputs: [39 87], Prediction: 126\n",
      "Inputs: [105  82], Prediction: 187\n",
      "Inputs: [39 48], Prediction: 87\n",
      "Inputs: [39 71], Prediction: 110\n",
      "Inputs: [17 52], Prediction: 69\n",
      "Inputs: [63 30], Prediction: 93\n",
      "Inputs: [69 96], Prediction: 165\n",
      "Inputs: [93 62], Prediction: 155\n",
      "Inputs: [71 22], Prediction: 93\n",
      "Inputs: [79 46], Prediction: 125\n",
      "Inputs: [108  34], Prediction: 142\n",
      "Inputs: [79 57], Prediction: 136\n",
      "Inputs: [60 48], Prediction: 108\n",
      "Inputs: [ 74 126], Prediction: 200\n",
      "Inputs: [76 41], Prediction: 117\n",
      "Inputs: [41 51], Prediction: 92\n",
      "Inputs: [36 96], Prediction: 132\n",
      "Inputs: [ 87 116], Prediction: 203\n",
      "Inputs: [59 95], Prediction: 154\n",
      "Inputs: [37 69], Prediction: 106\n",
      "Inputs: [105  55], Prediction: 160\n",
      "Inputs: [43 64], Prediction: 107\n"
     ]
    }
   ],
   "source": [
    "x, y = make_binary(32)\n",
    "preds = model.predict_classes(x, verbose=0)\n",
    "x, preds = make_decimal(x, preds)\n",
    "result = zip(x, preds)\n",
    "for tup in result:\n",
    "\tprint('Inputs: {}, Prediction: {}'.format(tup[0], tup[1][0]))"
   ]
  }
 ],
 "metadata": {
  "kernelspec": {
   "display_name": "Python 3",
   "language": "python",
   "name": "python3"
  },
  "language_info": {
   "codemirror_mode": {
    "name": "ipython",
    "version": 3
   },
   "file_extension": ".py",
   "mimetype": "text/x-python",
   "name": "python",
   "nbconvert_exporter": "python",
   "pygments_lexer": "ipython3",
   "version": "3.5.3"
  }
 },
 "nbformat": 4,
 "nbformat_minor": 2
}
