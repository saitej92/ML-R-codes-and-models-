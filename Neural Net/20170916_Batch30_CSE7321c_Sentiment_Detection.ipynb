{
 "cells": [
  {
   "cell_type": "code",
   "execution_count": 1,
   "metadata": {},
   "outputs": [
    {
     "data": {
      "text/plain": [
       "\"Trains a LSTM on the IMDB sentiment classification task.\\nThe dataset is actually too small for LSTM to be of any advantage\\ncompared to simpler, much faster methods such as TF-IDF + LogReg.\\nNotes:\\n\\n- RNNs are tricky. Choice of batch size is important,\\nchoice of loss and optimizer is critical, etc.\\nSome configurations won't converge.\\n\\n- LSTM loss decrease patterns during training can be quite different\\nfrom what you see with CNNs/MLPs/etc.\\n\""
      ]
     },
     "execution_count": 1,
     "metadata": {},
     "output_type": "execute_result"
    }
   ],
   "source": [
    "'''Trains a LSTM on the IMDB sentiment classification task.\n",
    "The dataset is actually too small for LSTM to be of any advantage\n",
    "compared to simpler, much faster methods such as TF-IDF + LogReg.\n",
    "Notes:\n",
    "\n",
    "- RNNs are tricky. Choice of batch size is important,\n",
    "choice of loss and optimizer is critical, etc.\n",
    "Some configurations won't converge.\n",
    "\n",
    "- LSTM loss decrease patterns during training can be quite different\n",
    "from what you see with CNNs/MLPs/etc.\n",
    "'''"
   ]
  },
  {
   "cell_type": "code",
   "execution_count": 2,
   "metadata": {},
   "outputs": [
    {
     "name": "stderr",
     "output_type": "stream",
     "text": [
      "Using TensorFlow backend.\n"
     ]
    }
   ],
   "source": [
    "from __future__ import print_function\n",
    "\n",
    "from keras.preprocessing import sequence\n",
    "from keras.models import Sequential\n",
    "from keras.layers import Dense, Embedding\n",
    "from keras.layers import LSTM\n",
    "from keras.datasets import imdb\n"
   ]
  },
  {
   "cell_type": "code",
   "execution_count": 3,
   "metadata": {
    "collapsed": true
   },
   "outputs": [],
   "source": [
    "max_features = 20000\n",
    "maxlen = 80  # cut texts after this number of words (among top max_features most common words)\n",
    "batch_size = 32"
   ]
  },
  {
   "cell_type": "code",
   "execution_count": 4,
   "metadata": {},
   "outputs": [
    {
     "name": "stdout",
     "output_type": "stream",
     "text": [
      "Loading data...\n",
      "25000 train sequences\n",
      "25000 test sequences\n",
      "Pad sequences (samples x time)\n",
      "x_train shape: (25000, 80)\n",
      "x_test shape: (25000, 80)\n"
     ]
    }
   ],
   "source": [
    "print('Loading data...')\n",
    "(x_train, y_train), (x_test, y_test) = imdb.load_data(num_words=max_features)\n",
    "print(len(x_train), 'train sequences')\n",
    "print(len(x_test), 'test sequences')\n",
    "\n",
    "print('Pad sequences (samples x time)')\n",
    "x_train = sequence.pad_sequences(x_train, maxlen=maxlen)\n",
    "x_test = sequence.pad_sequences(x_test, maxlen=maxlen)\n",
    "print('x_train shape:', x_train.shape)\n",
    "print('x_test shape:', x_test.shape)"
   ]
  },
  {
   "cell_type": "code",
   "execution_count": 5,
   "metadata": {},
   "outputs": [
    {
     "name": "stdout",
     "output_type": "stream",
     "text": [
      "Build model...\n"
     ]
    }
   ],
   "source": [
    "print('Build model...')\n",
    "model = Sequential()\n",
    "model.add(Embedding(max_features, 128))\n",
    "model.add(LSTM(128, dropout=0.2, recurrent_dropout=0.2))\n",
    "model.add(Dense(1, activation='sigmoid'))"
   ]
  },
  {
   "cell_type": "code",
   "execution_count": 6,
   "metadata": {
    "collapsed": true
   },
   "outputs": [],
   "source": [
    "# try using different optimizers and different optimizer configs\n",
    "model.compile(loss='binary_crossentropy',\n",
    "              optimizer='adam',\n",
    "              metrics=['accuracy'])"
   ]
  },
  {
   "cell_type": "code",
   "execution_count": 7,
   "metadata": {},
   "outputs": [
    {
     "name": "stdout",
     "output_type": "stream",
     "text": [
      "Train...\n",
      "Train on 25000 samples, validate on 25000 samples\n",
      "Epoch 1/15\n",
      "25000/25000 [==============================] - 189s - loss: 0.4552 - acc: 0.7864 - val_loss: 0.3690 - val_acc: 0.8402\n",
      "Epoch 2/15\n",
      "25000/25000 [==============================] - 185s - loss: 0.2977 - acc: 0.8805 - val_loss: 0.3838 - val_acc: 0.8330\n",
      "Epoch 3/15\n",
      "25000/25000 [==============================] - 184s - loss: 0.2154 - acc: 0.9160 - val_loss: 0.4019 - val_acc: 0.8298\n",
      "Epoch 4/15\n",
      "25000/25000 [==============================] - 190s - loss: 0.1492 - acc: 0.9445 - val_loss: 0.5898 - val_acc: 0.8176\n",
      "Epoch 5/15\n",
      "25000/25000 [==============================] - 202s - loss: 0.1032 - acc: 0.9625 - val_loss: 0.6291 - val_acc: 0.8248\n",
      "Epoch 6/15\n",
      "25000/25000 [==============================] - 190s - loss: 0.0732 - acc: 0.9745 - val_loss: 0.6256 - val_acc: 0.8271\n",
      "Epoch 7/15\n",
      "25000/25000 [==============================] - 188s - loss: 0.0556 - acc: 0.9812 - val_loss: 0.6547 - val_acc: 0.8240\n",
      "Epoch 8/15\n",
      "25000/25000 [==============================] - 188s - loss: 0.0438 - acc: 0.9852 - val_loss: 0.7677 - val_acc: 0.8182\n",
      "Epoch 9/15\n",
      "25000/25000 [==============================] - 194s - loss: 0.0333 - acc: 0.9897 - val_loss: 0.8464 - val_acc: 0.8210\n",
      "Epoch 10/15\n",
      "25000/25000 [==============================] - 192s - loss: 0.0238 - acc: 0.9928 - val_loss: 0.9026 - val_acc: 0.8126\n",
      "Epoch 11/15\n",
      "25000/25000 [==============================] - 214s - loss: 0.0254 - acc: 0.9920 - val_loss: 1.0797 - val_acc: 0.8100\n",
      "Epoch 12/15\n",
      "25000/25000 [==============================] - 202s - loss: 0.0211 - acc: 0.9938 - val_loss: 0.9468 - val_acc: 0.8155\n",
      "Epoch 13/15\n",
      "25000/25000 [==============================] - 193s - loss: 0.0131 - acc: 0.9953 - val_loss: 0.9979 - val_acc: 0.8120\n",
      "Epoch 14/15\n",
      "25000/25000 [==============================] - 189s - loss: 0.0144 - acc: 0.9955 - val_loss: 1.0823 - val_acc: 0.8079\n",
      "Epoch 15/15\n",
      "25000/25000 [==============================] - 201s - loss: 0.0114 - acc: 0.9962 - val_loss: 1.1042 - val_acc: 0.8098\n",
      "25000/25000 [==============================] - 43s    \n"
     ]
    }
   ],
   "source": [
    "print('Train...')\n",
    "model.fit(x_train, y_train,\n",
    "          batch_size=batch_size,\n",
    "          epochs=15,\n",
    "          validation_data=(x_test, y_test))\n",
    "score, acc = model.evaluate(x_test, y_test,\n",
    "                            batch_size=batch_size)"
   ]
  },
  {
   "cell_type": "code",
   "execution_count": 8,
   "metadata": {},
   "outputs": [
    {
     "name": "stdout",
     "output_type": "stream",
     "text": [
      "Test score: 1.10415102727\n",
      "Test accuracy: 0.80984\n"
     ]
    }
   ],
   "source": [
    "print('Test score:', score)\n",
    "print('Test accuracy:', acc)"
   ]
  }
 ],
 "metadata": {
  "kernelspec": {
   "display_name": "Python 3",
   "language": "python",
   "name": "python3"
  },
  "language_info": {
   "codemirror_mode": {
    "name": "ipython",
    "version": 3
   },
   "file_extension": ".py",
   "mimetype": "text/x-python",
   "name": "python",
   "nbconvert_exporter": "python",
   "pygments_lexer": "ipython3",
   "version": "3.6.1"
  }
 },
 "nbformat": 4,
 "nbformat_minor": 2
}
