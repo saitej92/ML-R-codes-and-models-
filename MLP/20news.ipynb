{
 "cells": [
  {
   "cell_type": "code",
   "execution_count": 1,
   "metadata": {},
   "outputs": [
    {
     "data": {
      "text/plain": [
       "'This script loads pre-trained word embeddings (GloVe embeddings)\\ninto a Keras Embedding layer, and uses it to\\ntrain a text classification model on the 20 Newsgroup dataset\\n(classication of newsgroup messages into 20 different categories).\\nGloVe embedding data can be found at:\\nhttp://nlp.stanford.edu/data/glove.6B.zip\\n(source page: http://nlp.stanford.edu/projects/glove/)\\n20 Newsgroup data can be found at:\\nhttp://www.cs.cmu.edu/afs/cs.cmu.edu/project/theo-20/www/data/news20.html\\nCurrently used dataset is a subset of it.\\n'"
      ]
     },
     "execution_count": 1,
     "metadata": {},
     "output_type": "execute_result"
    }
   ],
   "source": [
    "'''This script loads pre-trained word embeddings (GloVe embeddings)\n",
    "into a Keras Embedding layer, and uses it to\n",
    "train a text classification model on the 20 Newsgroup dataset\n",
    "(classication of newsgroup messages into 20 different categories).\n",
    "GloVe embedding data can be found at:\n",
    "http://nlp.stanford.edu/data/glove.6B.zip\n",
    "(source page: http://nlp.stanford.edu/projects/glove/)\n",
    "20 Newsgroup data can be found at:\n",
    "http://www.cs.cmu.edu/afs/cs.cmu.edu/project/theo-20/www/data/news20.html\n",
    "Currently used dataset is a subset of it.\n",
    "'''"
   ]
  },
  {
   "cell_type": "code",
   "execution_count": 2,
   "metadata": {},
   "outputs": [
    {
     "name": "stderr",
     "output_type": "stream",
     "text": [
      "Using TensorFlow backend.\n"
     ]
    }
   ],
   "source": [
    "from __future__ import print_function\n",
    "\n",
    "import os\n",
    "import sys\n",
    "import numpy as np\n",
    "from keras.preprocessing.text import Tokenizer\n",
    "from keras.preprocessing.sequence import pad_sequences\n",
    "from keras.utils import to_categorical\n",
    "from keras.layers import Dense, Input, Flatten, Dropout, Lambda\n",
    "from keras.layers import Embedding\n",
    "from keras.models import Model, Sequential\n",
    "import tensorflow as tf"
   ]
  },
  {
   "cell_type": "code",
   "execution_count": 3,
   "metadata": {
    "collapsed": true
   },
   "outputs": [],
   "source": [
    "BASE_DIR = os.getcwd()\n",
    "GLOVE_DIR = BASE_DIR + '/glove.6B/'\n",
    "TEXT_DATA_DIR = BASE_DIR + '/20news-bydate-train/'\n",
    "MAX_SEQUENCE_LENGTH = 1000\n",
    "MAX_NB_WORDS = 20000\n",
    "EMBEDDING_DIM = 100\n",
    "VALIDATION_SPLIT = 0.2"
   ]
  },
  {
   "cell_type": "code",
   "execution_count": 7,
   "metadata": {},
   "outputs": [
    {
     "name": "stdout",
     "output_type": "stream",
     "text": [
      "Indexing word vectors.\n",
      "Found 400000 word vectors.\n",
      "Processing text dataset\n"
     ]
    }
   ],
   "source": [
    "# first, build index mapping words in the embeddings set\n",
    "# to their embedding vector\n",
    "\n",
    "print('Indexing word vectors.')\n",
    "\n",
    "embeddings_index = {}\n",
    "f = open(os.path.join(GLOVE_DIR, 'glove.6B.100d.txt'),encoding=\"utf8\")\n",
    "for line in f:\n",
    "    values = line.split()\n",
    "    word = values[0]\n",
    "    coefs = np.asarray(values[1:], dtype='float32')\n",
    "    embeddings_index[word] = coefs\n",
    "f.close()\n",
    "\n",
    "print('Found %s word vectors.' % len(embeddings_index))\n",
    "\n",
    "# second, prepare text samples and their labels\n",
    "print('Processing text dataset')\n"
   ]
  },
  {
   "cell_type": "code",
   "execution_count": 8,
   "metadata": {},
   "outputs": [
    {
     "name": "stdout",
     "output_type": "stream",
     "text": [
      "Found 11314 texts.\n"
     ]
    }
   ],
   "source": [
    "texts = []  # list of text samples\n",
    "labels_index = {}  # dictionary mapping label name to numeric id\n",
    "labels = []  # list of label ids\n",
    "for name in sorted(os.listdir(TEXT_DATA_DIR)):\n",
    "    path = os.path.join(TEXT_DATA_DIR, name)\n",
    "    if os.path.isdir(path):\n",
    "        label_id = len(labels_index)\n",
    "        labels_index[name] = label_id\n",
    "        for fname in sorted(os.listdir(path)):\n",
    "            if fname.isdigit():\n",
    "                fpath = os.path.join(path, fname)\n",
    "                if sys.version_info < (3,):\n",
    "                    f = open(fpath)\n",
    "                else:\n",
    "                    f = open(fpath, encoding='latin-1')\n",
    "                t = f.read()\n",
    "                i = t.find('\\n\\n')  # skip header\n",
    "                if 0 < i:\n",
    "                    t = t[i:]\n",
    "                texts.append(t)\n",
    "                f.close()\n",
    "                labels.append(label_id)\n",
    "\n",
    "print('Found %s texts.' % len(texts))"
   ]
  },
  {
   "cell_type": "code",
   "execution_count": 9,
   "metadata": {},
   "outputs": [
    {
     "name": "stdout",
     "output_type": "stream",
     "text": [
      "Found 129096 unique tokens.\n",
      "Shape of data tensor: (11314, 1000)\n",
      "Shape of label tensor: (11314, 20)\n"
     ]
    }
   ],
   "source": [
    "# finally, vectorize the text samples into a 2D integer tensor\n",
    "tokenizer = Tokenizer(num_words=MAX_NB_WORDS)\n",
    "tokenizer.fit_on_texts(texts)\n",
    "sequences = tokenizer.texts_to_sequences(texts)\n",
    "\n",
    "word_index = tokenizer.word_index\n",
    "print('Found %s unique tokens.' % len(word_index))\n",
    "\n",
    "data = pad_sequences(sequences, maxlen=MAX_SEQUENCE_LENGTH)\n",
    "\n",
    "labels = to_categorical(np.asarray(labels))\n",
    "print('Shape of data tensor:', data.shape)\n",
    "print('Shape of label tensor:', labels.shape)\n"
   ]
  },
  {
   "cell_type": "code",
   "execution_count": 10,
   "metadata": {},
   "outputs": [
    {
     "name": "stdout",
     "output_type": "stream",
     "text": [
      "Preparing embedding matrix.\n"
     ]
    }
   ],
   "source": [
    "# split the data into a training set and a validation set\n",
    "indices = np.arange(data.shape[0])\n",
    "np.random.shuffle(indices)\n",
    "data = data[indices]\n",
    "labels = labels[indices]\n",
    "num_validation_samples = int(VALIDATION_SPLIT * data.shape[0])\n",
    "\n",
    "x_train = data[:-num_validation_samples]\n",
    "y_train = labels[:-num_validation_samples]\n",
    "x_val = data[-num_validation_samples:]\n",
    "y_val = labels[-num_validation_samples:]\n",
    "\n",
    "print('Preparing embedding matrix.')"
   ]
  },
  {
   "cell_type": "code",
   "execution_count": 11,
   "metadata": {},
   "outputs": [
    {
     "name": "stdout",
     "output_type": "stream",
     "text": [
      "Training model.\n"
     ]
    }
   ],
   "source": [
    "# prepare embedding matrix\n",
    "num_words = min(MAX_NB_WORDS, len(word_index))\n",
    "embedding_matrix = np.zeros((num_words, EMBEDDING_DIM))\n",
    "for word, i in word_index.items():\n",
    "    if i >= MAX_NB_WORDS:\n",
    "        continue\n",
    "    embedding_vector = embeddings_index.get(word)\n",
    "    if embedding_vector is not None:\n",
    "        # words not found in embedding index will be all-zeros.\n",
    "        embedding_matrix[i] = embedding_vector\n",
    "\n",
    "# load pre-trained word embeddings into an Embedding layer\n",
    "# note that we set trainable = False so as to keep the embeddings fixed\n",
    "print('Training model.')"
   ]
  },
  {
   "cell_type": "code",
   "execution_count": 12,
   "metadata": {
    "collapsed": true
   },
   "outputs": [],
   "source": [
    "model = Sequential()\n",
    "model.add(Embedding(num_words,\n",
    "                    EMBEDDING_DIM,\n",
    "                    input_length=MAX_SEQUENCE_LENGTH,\n",
    "                    weights=[embedding_matrix],\n",
    "                    # trainable=False\n",
    "                    ))\n",
    "model.add(Lambda(lambda x: tf.reduce_mean(x, axis=1)))\n",
    "model.add(Dense(50, activation = 'relu'))\n",
    "model.add(Dense(len(labels_index), activation='softmax'))"
   ]
  },
  {
   "cell_type": "code",
   "execution_count": 13,
   "metadata": {
    "collapsed": true
   },
   "outputs": [],
   "source": [
    "from keras import callbacks\n",
    "reduce_lr = callbacks.ReduceLROnPlateau(monitor='val_loss', factor=0.2,\n",
    "              patience=5, min_lr=0.00001, verbose=1, epsilon=0.001)\n",
    "early_stop = callbacks.EarlyStopping(monitor='val_loss', min_delta=0, patience=7, verbose=1, mode='auto')\n",
    "model.compile(loss='categorical_crossentropy',\n",
    "              optimizer='rmsprop',\n",
    "              metrics=['acc'])"
   ]
  },
  {
   "cell_type": "code",
   "execution_count": 14,
   "metadata": {},
   "outputs": [
    {
     "name": "stdout",
     "output_type": "stream",
     "text": [
      "Train on 9052 samples, validate on 2262 samples\n",
      "Epoch 1/200\n",
      "9052/9052 [==============================] - 12s - loss: 2.9328 - acc: 0.0992 - val_loss: 2.8770 - val_acc: 0.1379\n",
      "Epoch 2/200\n",
      "9052/9052 [==============================] - 12s - loss: 2.8055 - acc: 0.1740 - val_loss: 2.7376 - val_acc: 0.2034\n",
      "Epoch 3/200\n",
      "9052/9052 [==============================] - 12s - loss: 2.6369 - acc: 0.2654 - val_loss: 2.5544 - val_acc: 0.2891\n",
      "Epoch 4/200\n",
      "9052/9052 [==============================] - 13s - loss: 2.4347 - acc: 0.3396 - val_loss: 2.3689 - val_acc: 0.3011\n",
      "Epoch 5/200\n",
      "9052/9052 [==============================] - 13s - loss: 2.2366 - acc: 0.3885 - val_loss: 2.1935 - val_acc: 0.4138\n",
      "Epoch 6/200\n",
      "9052/9052 [==============================] - 12s - loss: 2.0611 - acc: 0.4401 - val_loss: 2.0476 - val_acc: 0.4054\n",
      "Epoch 7/200\n",
      "9052/9052 [==============================] - 12s - loss: 1.9076 - acc: 0.4804 - val_loss: 1.9047 - val_acc: 0.4576\n",
      "Epoch 8/200\n",
      "9052/9052 [==============================] - 12s - loss: 1.7733 - acc: 0.5096 - val_loss: 1.7889 - val_acc: 0.5363\n",
      "Epoch 9/200\n",
      "9052/9052 [==============================] - 12s - loss: 1.6546 - acc: 0.5484 - val_loss: 1.6931 - val_acc: 0.5420\n",
      "Epoch 10/200\n",
      "9052/9052 [==============================] - 12s - loss: 1.5454 - acc: 0.5836 - val_loss: 1.6037 - val_acc: 0.5623\n",
      "Epoch 11/200\n",
      "9052/9052 [==============================] - 12s - loss: 1.4448 - acc: 0.6150 - val_loss: 1.5250 - val_acc: 0.5875\n",
      "Epoch 12/200\n",
      "9052/9052 [==============================] - 12s - loss: 1.3505 - acc: 0.6410 - val_loss: 1.4356 - val_acc: 0.6295\n",
      "Epoch 13/200\n",
      "9052/9052 [==============================] - 12s - loss: 1.2639 - acc: 0.6683 - val_loss: 1.3756 - val_acc: 0.6194\n",
      "Epoch 14/200\n",
      "9052/9052 [==============================] - 13s - loss: 1.1849 - acc: 0.6969 - val_loss: 1.2950 - val_acc: 0.6698\n",
      "Epoch 15/200\n",
      "9052/9052 [==============================] - 12s - loss: 1.1093 - acc: 0.7171 - val_loss: 1.2364 - val_acc: 0.6693\n",
      "Epoch 16/200\n",
      "9052/9052 [==============================] - 14s - loss: 1.0394 - acc: 0.7357 - val_loss: 1.1914 - val_acc: 0.6742\n",
      "Epoch 17/200\n",
      "9052/9052 [==============================] - 12s - loss: 0.9770 - acc: 0.7509 - val_loss: 1.1269 - val_acc: 0.7016\n",
      "Epoch 18/200\n",
      "9052/9052 [==============================] - 12s - loss: 0.9167 - acc: 0.7702 - val_loss: 1.0833 - val_acc: 0.7100\n",
      "Epoch 19/200\n",
      "9052/9052 [==============================] - 12s - loss: 0.8597 - acc: 0.7870 - val_loss: 1.0433 - val_acc: 0.7215\n",
      "Epoch 20/200\n",
      "9052/9052 [==============================] - 12s - loss: 0.8107 - acc: 0.7986 - val_loss: 0.9917 - val_acc: 0.7423\n",
      "Epoch 21/200\n",
      "9052/9052 [==============================] - 13s - loss: 0.7615 - acc: 0.8130 - val_loss: 0.9524 - val_acc: 0.7608\n",
      "Epoch 22/200\n",
      "9052/9052 [==============================] - 12s - loss: 0.7173 - acc: 0.8282 - val_loss: 0.9298 - val_acc: 0.7529\n",
      "Epoch 23/200\n",
      "9052/9052 [==============================] - 12s - loss: 0.6748 - acc: 0.8394 - val_loss: 0.9354 - val_acc: 0.7383\n",
      "Epoch 24/200\n",
      "9052/9052 [==============================] - 12s - loss: 0.6365 - acc: 0.8470 - val_loss: 0.8744 - val_acc: 0.7767\n",
      "Epoch 25/200\n",
      "9052/9052 [==============================] - 12s - loss: 0.5976 - acc: 0.8601 - val_loss: 0.8615 - val_acc: 0.7608\n",
      "Epoch 26/200\n",
      "9052/9052 [==============================] - 12s - loss: 0.5638 - acc: 0.8671 - val_loss: 0.8069 - val_acc: 0.7874\n",
      "Epoch 27/200\n",
      "9052/9052 [==============================] - 12s - loss: 0.5333 - acc: 0.8784 - val_loss: 0.7874 - val_acc: 0.8024\n",
      "Epoch 28/200\n",
      "9052/9052 [==============================] - 12s - loss: 0.5034 - acc: 0.8833 - val_loss: 0.7638 - val_acc: 0.8042\n",
      "Epoch 29/200\n",
      "9052/9052 [==============================] - 14s - loss: 0.4744 - acc: 0.8886 - val_loss: 0.7610 - val_acc: 0.7953\n",
      "Epoch 30/200\n",
      "9052/9052 [==============================] - 14s - loss: 0.4497 - acc: 0.8992 - val_loss: 0.7523 - val_acc: 0.8077\n",
      "Epoch 31/200\n",
      "9052/9052 [==============================] - 12s - loss: 0.4245 - acc: 0.9007 - val_loss: 0.7620 - val_acc: 0.7865\n",
      "Epoch 32/200\n",
      "9052/9052 [==============================] - 12s - loss: 0.4030 - acc: 0.9093 - val_loss: 0.7189 - val_acc: 0.8179\n",
      "Epoch 33/200\n",
      "9052/9052 [==============================] - 12s - loss: 0.3836 - acc: 0.9139 - val_loss: 0.6961 - val_acc: 0.8148\n",
      "Epoch 34/200\n",
      "9052/9052 [==============================] - 13s - loss: 0.3627 - acc: 0.9175 - val_loss: 0.6966 - val_acc: 0.8121\n",
      "Epoch 35/200\n",
      "9052/9052 [==============================] - 12s - loss: 0.3453 - acc: 0.9227 - val_loss: 0.6986 - val_acc: 0.7997\n",
      "Epoch 36/200\n",
      "9052/9052 [==============================] - 12s - loss: 0.3275 - acc: 0.9245 - val_loss: 0.6866 - val_acc: 0.8170\n",
      "Epoch 37/200\n",
      "9052/9052 [==============================] - 13s - loss: 0.3107 - acc: 0.9289 - val_loss: 0.6628 - val_acc: 0.8280\n",
      "Epoch 38/200\n",
      "9052/9052 [==============================] - 12s - loss: 0.2973 - acc: 0.9312 - val_loss: 0.6718 - val_acc: 0.8223\n",
      "Epoch 39/200\n",
      "9052/9052 [==============================] - 12s - loss: 0.2853 - acc: 0.9349 - val_loss: 0.6574 - val_acc: 0.8298\n",
      "Epoch 40/200\n",
      "9052/9052 [==============================] - 12s - loss: 0.2706 - acc: 0.9375 - val_loss: 0.6495 - val_acc: 0.8258\n",
      "Epoch 41/200\n",
      "9052/9052 [==============================] - 12s - loss: 0.2578 - acc: 0.9424 - val_loss: 0.6860 - val_acc: 0.8064\n",
      "Epoch 42/200\n",
      "9052/9052 [==============================] - 12s - loss: 0.2465 - acc: 0.9433 - val_loss: 0.6282 - val_acc: 0.8338\n",
      "Epoch 43/200\n",
      "9052/9052 [==============================] - 12s - loss: 0.2362 - acc: 0.9449 - val_loss: 0.6321 - val_acc: 0.8329\n",
      "Epoch 44/200\n",
      "9052/9052 [==============================] - 12s - loss: 0.2259 - acc: 0.9500 - val_loss: 0.6694 - val_acc: 0.8267\n",
      "Epoch 45/200\n",
      "9052/9052 [==============================] - 12s - loss: 0.2158 - acc: 0.9504 - val_loss: 0.6478 - val_acc: 0.8263\n",
      "Epoch 46/200\n",
      "9052/9052 [==============================] - 12s - loss: 0.2069 - acc: 0.9538 - val_loss: 0.6322 - val_acc: 0.8311\n",
      "Epoch 47/200\n",
      "9052/9052 [==============================] - 12s - loss: 0.1981 - acc: 0.9546 - val_loss: 0.6309 - val_acc: 0.8342\n",
      "Epoch 48/200\n",
      "9024/9052 [============================>.] - ETA: 0s - loss: 0.1889 - acc: 0.9566\n",
      "Epoch 00047: reducing learning rate to 0.00020000000949949026.\n",
      "9052/9052 [==============================] - 12s - loss: 0.1889 - acc: 0.9565 - val_loss: 0.6490 - val_acc: 0.8254\n",
      "Epoch 49/200\n",
      "9052/9052 [==============================] - 12s - loss: 0.1746 - acc: 0.9625 - val_loss: 0.5998 - val_acc: 0.8435\n",
      "Epoch 50/200\n",
      "9052/9052 [==============================] - 12s - loss: 0.1717 - acc: 0.9633 - val_loss: 0.5983 - val_acc: 0.8444\n",
      "Epoch 51/200\n",
      "9052/9052 [==============================] - 12s - loss: 0.1698 - acc: 0.9639 - val_loss: 0.6034 - val_acc: 0.8426\n",
      "Epoch 52/200\n",
      "9052/9052 [==============================] - 13s - loss: 0.1686 - acc: 0.9653 - val_loss: 0.5978 - val_acc: 0.8470\n",
      "Epoch 53/200\n",
      "9052/9052 [==============================] - 12s - loss: 0.1669 - acc: 0.9645 - val_loss: 0.6040 - val_acc: 0.8439\n",
      "Epoch 54/200\n",
      "9052/9052 [==============================] - 12s - loss: 0.1658 - acc: 0.9640 - val_loss: 0.5994 - val_acc: 0.8457\n",
      "Epoch 55/200\n",
      "9052/9052 [==============================] - 13s - loss: 0.1639 - acc: 0.9658 - val_loss: 0.5993 - val_acc: 0.8453\n",
      "Epoch 56/200\n",
      "9024/9052 [============================>.] - ETA: 0s - loss: 0.1628 - acc: 0.9659\n",
      "Epoch 00055: reducing learning rate to 4.0000001899898055e-05.\n",
      "9052/9052 [==============================] - 13s - loss: 0.1625 - acc: 0.9660 - val_loss: 0.6040 - val_acc: 0.8395\n",
      "Epoch 57/200\n",
      "9052/9052 [==============================] - 12s - loss: 0.1598 - acc: 0.9660 - val_loss: 0.5976 - val_acc: 0.8453\n",
      "Epoch 58/200\n",
      "9052/9052 [==============================] - 12s - loss: 0.1592 - acc: 0.9670 - val_loss: 0.5985 - val_acc: 0.8435\n",
      "Epoch 59/200\n",
      "9052/9052 [==============================] - 12s - loss: 0.1589 - acc: 0.9664 - val_loss: 0.5975 - val_acc: 0.8444\n",
      "Epoch 60/200\n",
      "9052/9052 [==============================] - 12s - loss: 0.1586 - acc: 0.9675 - val_loss: 0.5973 - val_acc: 0.8453\n",
      "Epoch 61/200\n",
      "9052/9052 [==============================] - 12s - loss: 0.1584 - acc: 0.9666 - val_loss: 0.5973 - val_acc: 0.8457\n",
      "Epoch 62/200\n",
      "9052/9052 [==============================] - 13s - loss: 0.1581 - acc: 0.9665 - val_loss: 0.5979 - val_acc: 0.8439\n",
      "Epoch 63/200\n",
      "9052/9052 [==============================] - 17s - loss: 0.1578 - acc: 0.9671 - val_loss: 0.5976 - val_acc: 0.8444\n",
      "Epoch 64/200\n",
      "9052/9052 [==============================] - 17s - loss: 0.1575 - acc: 0.9671 - val_loss: 0.5971 - val_acc: 0.8448\n",
      "Epoch 65/200\n",
      "9052/9052 [==============================] - 17s - loss: 0.1572 - acc: 0.9674 - val_loss: 0.5967 - val_acc: 0.8466\n",
      "Epoch 66/200\n",
      "9024/9052 [============================>.] - ETA: 0s - loss: 0.1569 - acc: 0.9671\n",
      "Epoch 00065: reducing learning rate to 1e-05.\n",
      "9052/9052 [==============================] - 16s - loss: 0.1569 - acc: 0.9670 - val_loss: 0.5978 - val_acc: 0.8444\n",
      "Epoch 67/200\n",
      "9052/9052 [==============================] - 17s - loss: 0.1563 - acc: 0.9672 - val_loss: 0.5972 - val_acc: 0.8453\n",
      "Epoch 68/200\n",
      "9052/9052 [==============================] - 18s - loss: 0.1562 - acc: 0.9670 - val_loss: 0.5971 - val_acc: 0.8457\n",
      "Epoch 69/200\n",
      "9052/9052 [==============================] - 17s - loss: 0.1562 - acc: 0.9675 - val_loss: 0.5971 - val_acc: 0.8457\n",
      "Epoch 70/200\n",
      "9052/9052 [==============================] - 17s - loss: 0.1561 - acc: 0.9676 - val_loss: 0.5971 - val_acc: 0.8462\n",
      "Epoch 71/200\n",
      "9052/9052 [==============================] - 17s - loss: 0.1560 - acc: 0.9680 - val_loss: 0.5971 - val_acc: 0.8453\n",
      "Epoch 72/200\n",
      "9052/9052 [==============================] - 17s - loss: 0.1559 - acc: 0.9674 - val_loss: 0.5971 - val_acc: 0.8453\n",
      "Epoch 73/200\n",
      "9052/9052 [==============================] - 17s - loss: 0.1559 - acc: 0.9673 - val_loss: 0.5972 - val_acc: 0.8457\n",
      "Epoch 00072: early stopping\n"
     ]
    },
    {
     "data": {
      "text/plain": [
       "<keras.callbacks.History at 0x1da2365b198>"
      ]
     },
     "execution_count": 14,
     "metadata": {},
     "output_type": "execute_result"
    }
   ],
   "source": [
    "model.fit(x_train, y_train,\n",
    "          batch_size=64,\n",
    "          epochs=200,\n",
    "          validation_data=(x_val, y_val),\n",
    "          callbacks=[reduce_lr, early_stop])"
   ]
  }
 ],
 "metadata": {
  "kernelspec": {
   "display_name": "Python 3",
   "language": "python",
   "name": "python3"
  },
  "language_info": {
   "codemirror_mode": {
    "name": "ipython",
    "version": 3
   },
   "file_extension": ".py",
   "mimetype": "text/x-python",
   "name": "python",
   "nbconvert_exporter": "python",
   "pygments_lexer": "ipython3",
   "version": "3.6.1"
  }
 },
 "nbformat": 4,
 "nbformat_minor": 2
}
